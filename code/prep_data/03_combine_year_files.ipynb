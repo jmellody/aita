{
 "cells": [
  {
   "cell_type": "code",
   "execution_count": null,
   "id": "df6874f8-7716-47bc-a8e3-72565e429d35",
   "metadata": {},
   "outputs": [],
   "source": [
    "import pandas as pd\n",
    "import numpy as np\n",
    "import matplotlib.pyplot as plt\n",
    "import re\n",
    "import math"
   ]
  },
  {
   "cell_type": "code",
   "execution_count": null,
   "id": "6bbd2023-2d1a-4a4e-af0b-07b29b0e21d4",
   "metadata": {},
   "outputs": [],
   "source": [
    "years = [2014,2015,2016,2017,2018,2019,2020,2021,2022]\n",
    "\n",
    "df_list =[]\n",
    "\n",
    "for year in years:\n",
    "    df_list.append(pd.read_parquet(f'/Users/jm7581/Documents/Projects/Active/AITA/data/AITA_comments_intermediate_{year}.parquet'))\n",
    "    print(str(year))\n"
   ]
  },
  {
   "cell_type": "code",
   "execution_count": null,
   "id": "c1def6a0-a1f5-4751-bec9-e3ec0b8c5816",
   "metadata": {},
   "outputs": [],
   "source": [
    "result_df = pd.concat(df_list, ignore_index=True)"
   ]
  },
  {
   "cell_type": "code",
   "execution_count": null,
   "id": "42470ff7-6308-4814-8c6b-375cb2dd038a",
   "metadata": {},
   "outputs": [],
   "source": [
    "result_df.to_parquet('/Users/jm7581/Documents/Projects/Active/AITA/data/AITA_comments_intermediate_all.parquet', row_group_size = 10**6)"
   ]
  },
  {
   "cell_type": "code",
   "execution_count": null,
   "id": "39b247f7-bfcd-4226-a844-da0850794f33",
   "metadata": {},
   "outputs": [],
   "source": []
  }
 ],
 "metadata": {
  "kernelspec": {
   "display_name": "Python 3 (ipykernel)",
   "language": "python",
   "name": "python3"
  },
  "language_info": {
   "codemirror_mode": {
    "name": "ipython",
    "version": 3
   },
   "file_extension": ".py",
   "mimetype": "text/x-python",
   "name": "python",
   "nbconvert_exporter": "python",
   "pygments_lexer": "ipython3",
   "version": "3.12.2"
  }
 },
 "nbformat": 4,
 "nbformat_minor": 5
}
