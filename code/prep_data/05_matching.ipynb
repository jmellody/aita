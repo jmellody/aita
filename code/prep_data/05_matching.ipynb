{
 "cells": [
  {
   "cell_type": "code",
   "execution_count": null,
   "id": "63f5bb2c-a3c5-4caf-94bc-4d378fabecd8",
   "metadata": {},
   "outputs": [],
   "source": [
    "import pandas as pd\n",
    "import numpy as np\n",
    "import matplotlib.pyplot as plt\n",
    "import re\n",
    "import math\n",
    "from statsmodels.stats.weightstats import ttest_ind\n",
    "import cem\n",
    "from cem.match import match\n",
    "from cem.coarsen import coarsen\n",
    "from cem.imbalance import L1\n",
    "import scipy.stats as stats"
   ]
  },
  {
   "cell_type": "markdown",
   "id": "9234e0bf-e403-4ecd-bfb2-93ea9412c1a6",
   "metadata": {},
   "source": [
    "### Read in Data"
   ]
  },
  {
   "cell_type": "code",
   "execution_count": null,
   "id": "49b41559-c4c2-46fc-a560-4476db0702b1",
   "metadata": {},
   "outputs": [],
   "source": [
    "datapath = '/Users/jm7581/Documents/projects/active/AITA/data/'\n",
    "resultspath = '/Users/jm7581/Documents/projects/active/AITA/results/adroit/'\n",
    "graphpath = '/Users/jm7581/Documents/projects/active/AITA/graphs/'"
   ]
  },
  {
   "cell_type": "code",
   "execution_count": null,
   "id": "ce99584d-da67-44c4-b952-1021ef5c9b6a",
   "metadata": {},
   "outputs": [],
   "source": [
    "data = pd.read_stata('/Users/jm7581/Documents/projects/active/AITA/data/aita_data_2022_prepped.dta')\n",
    "\n",
    "#filter sample\n",
    "data['num_comments'] = data.groupby('postid')['postid'].transform('count')\n",
    "data = data[data['cum_score_absolute'] != 0]\n",
    "data['num_comments'] = data.groupby('postid')['postid'].transform('count')\n",
    "data = data[data['num_comments'] > 15]"
   ]
  },
  {
   "cell_type": "markdown",
   "id": "23e92b22-6c34-4f66-83fc-fc71aa886214",
   "metadata": {},
   "source": [
    "### Perform Matching"
   ]
  },
  {
   "cell_type": "code",
   "execution_count": null,
   "id": "2ac581d3-414b-4d34-8b44-8db0d736467b",
   "metadata": {},
   "outputs": [],
   "source": [
    "O = 'score_log'\n",
    "T = 'consensus_disagree'\n",
    "\n",
    "Y = data['score_log']\n",
    "\n",
    "#to exact match - include variable here, but not in schema\n",
    "X = data[['consensus_disagree', 'cs_majority', 'time_diff_min_ln', \n",
    "          'comment_competition_ln', 'author_skill_ln', 'comment_length_ln']]\n",
    "\n",
    "\n",
    "\n",
    "schema = {\n",
    "   'cs_majority': (pd.qcut, {'q':12}),\n",
    "    'time_diff_min_ln': (pd.qcut, {'q':12}),  \n",
    "    'comment_competition_ln': (pd.qcut, {'q':25}), \n",
    "       'author_skill_ln': (pd.qcut, {'q':12}),    \n",
    "       'comment_length_ln': (pd.qcut, {'q':12}),    \n",
    "   }\n",
    "\n",
    "\n",
    "X_coarse = X.apply(lambda x: schema[x.name][0](x, **schema[x.name][1]) if x.name in schema else x)\n",
    "\n",
    "\n",
    "# Perform CEM matching\n",
    "%time weights = match(X_coarse, T)\n",
    "\n",
    "data['match_weight'] = weights\n"
   ]
  },
  {
   "cell_type": "code",
   "execution_count": null,
   "id": "8ef7f5ac-5bff-4efd-be1c-dca112673159",
   "metadata": {},
   "outputs": [],
   "source": [
    "data.to_stata('/Users/jm7581/Documents/Projects/Active/AITA/data/aita_data_2022_prepped_matched.dta')"
   ]
  }
 ],
 "metadata": {
  "kernelspec": {
   "display_name": "Python 3 (ipykernel)",
   "language": "python",
   "name": "python3"
  },
  "language_info": {
   "codemirror_mode": {
    "name": "ipython",
    "version": 3
   },
   "file_extension": ".py",
   "mimetype": "text/x-python",
   "name": "python",
   "nbconvert_exporter": "python",
   "pygments_lexer": "ipython3",
   "version": "3.12.2"
  }
 },
 "nbformat": 4,
 "nbformat_minor": 5
}
